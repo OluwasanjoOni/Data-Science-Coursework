{
 "cells": [
  {
   "cell_type": "markdown",
   "id": "a56efaf7",
   "metadata": {},
   "source": [
    "**Task 2: Clustering**\n",
    "- \n",
    "In this task you are required to apply a machine learning algorithm to the data set\n",
    "country_data.csv which can be downloaded from the assignment task on canvas.\n",
    "This data set contains information about a countries child mortality, exports, health\n",
    "spending, etc.\n",
    "Use clustering to investigate this data set. After clustering the data you should\n",
    "analyse the results and discuss what can be concluded by the clusters.\n",
    "Ideas to consider when completing this task:\n",
    "- Is there a way of visualising the clusters?\n",
    "- Can you make any conclusions about the clustering?\n",
    "- Include as many features as you can. Does the clustering change?\n",
    "- What advice would you give, in the context of the data, based on the clustering?"
   ]
  },
  {
   "cell_type": "code",
   "execution_count": 6,
   "id": "cae5e56b",
   "metadata": {},
   "outputs": [],
   "source": [
    "# Libraries to help reading and manipulating data\n",
    "import pandas as pd\n",
    "import numpy as np\n",
    "\n",
    "# libraries to help with visualisation\n",
    "import matplotlib.pyplot as plt\n",
    "import seaborn as sns\n",
    "\n",
    "# libraries to help build Linear regression model\n",
    "from sklearn.preprocessing import MinMaxScaler\n",
    "from sklearn.cluster import KMeans\n"
   ]
  },
  {
   "cell_type": "code",
   "execution_count": 8,
   "id": "089006c7",
   "metadata": {},
   "outputs": [
    {
     "data": {
      "text/html": [
       "<div>\n",
       "<style scoped>\n",
       "    .dataframe tbody tr th:only-of-type {\n",
       "        vertical-align: middle;\n",
       "    }\n",
       "\n",
       "    .dataframe tbody tr th {\n",
       "        vertical-align: top;\n",
       "    }\n",
       "\n",
       "    .dataframe thead th {\n",
       "        text-align: right;\n",
       "    }\n",
       "</style>\n",
       "<table border=\"1\" class=\"dataframe\">\n",
       "  <thead>\n",
       "    <tr style=\"text-align: right;\">\n",
       "      <th></th>\n",
       "      <th>country</th>\n",
       "      <th>child_mort</th>\n",
       "      <th>exports</th>\n",
       "      <th>health</th>\n",
       "      <th>imports</th>\n",
       "      <th>income</th>\n",
       "      <th>inflation</th>\n",
       "      <th>life_expec</th>\n",
       "      <th>total_fer</th>\n",
       "      <th>gdpp</th>\n",
       "    </tr>\n",
       "  </thead>\n",
       "  <tbody>\n",
       "    <tr>\n",
       "      <th>0</th>\n",
       "      <td>Afghanistan</td>\n",
       "      <td>90.2</td>\n",
       "      <td>10.0</td>\n",
       "      <td>7.58</td>\n",
       "      <td>44.9</td>\n",
       "      <td>1610</td>\n",
       "      <td>9.44</td>\n",
       "      <td>56.2</td>\n",
       "      <td>5.82</td>\n",
       "      <td>553</td>\n",
       "    </tr>\n",
       "    <tr>\n",
       "      <th>1</th>\n",
       "      <td>Albania</td>\n",
       "      <td>16.6</td>\n",
       "      <td>28.0</td>\n",
       "      <td>6.55</td>\n",
       "      <td>48.6</td>\n",
       "      <td>9930</td>\n",
       "      <td>4.49</td>\n",
       "      <td>76.3</td>\n",
       "      <td>1.65</td>\n",
       "      <td>4090</td>\n",
       "    </tr>\n",
       "    <tr>\n",
       "      <th>2</th>\n",
       "      <td>Algeria</td>\n",
       "      <td>27.3</td>\n",
       "      <td>38.4</td>\n",
       "      <td>4.17</td>\n",
       "      <td>31.4</td>\n",
       "      <td>12900</td>\n",
       "      <td>16.10</td>\n",
       "      <td>76.5</td>\n",
       "      <td>2.89</td>\n",
       "      <td>4460</td>\n",
       "    </tr>\n",
       "    <tr>\n",
       "      <th>3</th>\n",
       "      <td>Angola</td>\n",
       "      <td>119.0</td>\n",
       "      <td>62.3</td>\n",
       "      <td>2.85</td>\n",
       "      <td>42.9</td>\n",
       "      <td>5900</td>\n",
       "      <td>22.40</td>\n",
       "      <td>60.1</td>\n",
       "      <td>6.16</td>\n",
       "      <td>3530</td>\n",
       "    </tr>\n",
       "    <tr>\n",
       "      <th>4</th>\n",
       "      <td>Antigua and Barbuda</td>\n",
       "      <td>10.3</td>\n",
       "      <td>45.5</td>\n",
       "      <td>6.03</td>\n",
       "      <td>58.9</td>\n",
       "      <td>19100</td>\n",
       "      <td>1.44</td>\n",
       "      <td>76.8</td>\n",
       "      <td>2.13</td>\n",
       "      <td>12200</td>\n",
       "    </tr>\n",
       "    <tr>\n",
       "      <th>...</th>\n",
       "      <td>...</td>\n",
       "      <td>...</td>\n",
       "      <td>...</td>\n",
       "      <td>...</td>\n",
       "      <td>...</td>\n",
       "      <td>...</td>\n",
       "      <td>...</td>\n",
       "      <td>...</td>\n",
       "      <td>...</td>\n",
       "      <td>...</td>\n",
       "    </tr>\n",
       "    <tr>\n",
       "      <th>162</th>\n",
       "      <td>Vanuatu</td>\n",
       "      <td>29.2</td>\n",
       "      <td>46.6</td>\n",
       "      <td>5.25</td>\n",
       "      <td>52.7</td>\n",
       "      <td>2950</td>\n",
       "      <td>2.62</td>\n",
       "      <td>63.0</td>\n",
       "      <td>3.50</td>\n",
       "      <td>2970</td>\n",
       "    </tr>\n",
       "    <tr>\n",
       "      <th>163</th>\n",
       "      <td>Venezuela</td>\n",
       "      <td>17.1</td>\n",
       "      <td>28.5</td>\n",
       "      <td>4.91</td>\n",
       "      <td>17.6</td>\n",
       "      <td>16500</td>\n",
       "      <td>45.90</td>\n",
       "      <td>75.4</td>\n",
       "      <td>2.47</td>\n",
       "      <td>13500</td>\n",
       "    </tr>\n",
       "    <tr>\n",
       "      <th>164</th>\n",
       "      <td>Vietnam</td>\n",
       "      <td>23.3</td>\n",
       "      <td>72.0</td>\n",
       "      <td>6.84</td>\n",
       "      <td>80.2</td>\n",
       "      <td>4490</td>\n",
       "      <td>12.10</td>\n",
       "      <td>73.1</td>\n",
       "      <td>1.95</td>\n",
       "      <td>1310</td>\n",
       "    </tr>\n",
       "    <tr>\n",
       "      <th>165</th>\n",
       "      <td>Yemen</td>\n",
       "      <td>56.3</td>\n",
       "      <td>30.0</td>\n",
       "      <td>5.18</td>\n",
       "      <td>34.4</td>\n",
       "      <td>4480</td>\n",
       "      <td>23.60</td>\n",
       "      <td>67.5</td>\n",
       "      <td>4.67</td>\n",
       "      <td>1310</td>\n",
       "    </tr>\n",
       "    <tr>\n",
       "      <th>166</th>\n",
       "      <td>Zambia</td>\n",
       "      <td>83.1</td>\n",
       "      <td>37.0</td>\n",
       "      <td>5.89</td>\n",
       "      <td>30.9</td>\n",
       "      <td>3280</td>\n",
       "      <td>14.00</td>\n",
       "      <td>52.0</td>\n",
       "      <td>5.40</td>\n",
       "      <td>1460</td>\n",
       "    </tr>\n",
       "  </tbody>\n",
       "</table>\n",
       "<p>167 rows × 10 columns</p>\n",
       "</div>"
      ],
      "text/plain": [
       "                 country  child_mort  exports  health  imports  income  \\\n",
       "0            Afghanistan        90.2     10.0    7.58     44.9    1610   \n",
       "1                Albania        16.6     28.0    6.55     48.6    9930   \n",
       "2                Algeria        27.3     38.4    4.17     31.4   12900   \n",
       "3                 Angola       119.0     62.3    2.85     42.9    5900   \n",
       "4    Antigua and Barbuda        10.3     45.5    6.03     58.9   19100   \n",
       "..                   ...         ...      ...     ...      ...     ...   \n",
       "162              Vanuatu        29.2     46.6    5.25     52.7    2950   \n",
       "163            Venezuela        17.1     28.5    4.91     17.6   16500   \n",
       "164              Vietnam        23.3     72.0    6.84     80.2    4490   \n",
       "165                Yemen        56.3     30.0    5.18     34.4    4480   \n",
       "166               Zambia        83.1     37.0    5.89     30.9    3280   \n",
       "\n",
       "     inflation  life_expec  total_fer   gdpp  \n",
       "0         9.44        56.2       5.82    553  \n",
       "1         4.49        76.3       1.65   4090  \n",
       "2        16.10        76.5       2.89   4460  \n",
       "3        22.40        60.1       6.16   3530  \n",
       "4         1.44        76.8       2.13  12200  \n",
       "..         ...         ...        ...    ...  \n",
       "162       2.62        63.0       3.50   2970  \n",
       "163      45.90        75.4       2.47  13500  \n",
       "164      12.10        73.1       1.95   1310  \n",
       "165      23.60        67.5       4.67   1310  \n",
       "166      14.00        52.0       5.40   1460  \n",
       "\n",
       "[167 rows x 10 columns]"
      ]
     },
     "execution_count": 8,
     "metadata": {},
     "output_type": "execute_result"
    }
   ],
   "source": [
    "# load the data\n",
    "\n",
    "path = r\"C:\\Users\\Admin\\Desktop\\country_data.csv\"\n",
    "\n",
    "country_data = pd.read_csv(path)\n",
    "\n",
    "country_data\n"
   ]
  },
  {
   "cell_type": "code",
   "execution_count": 7,
   "id": "e72e61fa",
   "metadata": {},
   "outputs": [
    {
     "data": {
      "text/html": [
       "<div>\n",
       "<style scoped>\n",
       "    .dataframe tbody tr th:only-of-type {\n",
       "        vertical-align: middle;\n",
       "    }\n",
       "\n",
       "    .dataframe tbody tr th {\n",
       "        vertical-align: top;\n",
       "    }\n",
       "\n",
       "    .dataframe thead th {\n",
       "        text-align: right;\n",
       "    }\n",
       "</style>\n",
       "<table border=\"1\" class=\"dataframe\">\n",
       "  <thead>\n",
       "    <tr style=\"text-align: right;\">\n",
       "      <th></th>\n",
       "      <th>country</th>\n",
       "      <th>child_mort</th>\n",
       "      <th>exports</th>\n",
       "      <th>health</th>\n",
       "      <th>imports</th>\n",
       "      <th>income</th>\n",
       "      <th>inflation</th>\n",
       "      <th>life_expec</th>\n",
       "      <th>total_fer</th>\n",
       "      <th>gdpp</th>\n",
       "    </tr>\n",
       "  </thead>\n",
       "  <tbody>\n",
       "    <tr>\n",
       "      <th>0</th>\n",
       "      <td>Afghanistan</td>\n",
       "      <td>90.2</td>\n",
       "      <td>10.0</td>\n",
       "      <td>7.58</td>\n",
       "      <td>44.9</td>\n",
       "      <td>1610</td>\n",
       "      <td>9.44</td>\n",
       "      <td>56.2</td>\n",
       "      <td>5.82</td>\n",
       "      <td>553</td>\n",
       "    </tr>\n",
       "    <tr>\n",
       "      <th>1</th>\n",
       "      <td>Albania</td>\n",
       "      <td>16.6</td>\n",
       "      <td>28.0</td>\n",
       "      <td>6.55</td>\n",
       "      <td>48.6</td>\n",
       "      <td>9930</td>\n",
       "      <td>4.49</td>\n",
       "      <td>76.3</td>\n",
       "      <td>1.65</td>\n",
       "      <td>4090</td>\n",
       "    </tr>\n",
       "    <tr>\n",
       "      <th>2</th>\n",
       "      <td>Algeria</td>\n",
       "      <td>27.3</td>\n",
       "      <td>38.4</td>\n",
       "      <td>4.17</td>\n",
       "      <td>31.4</td>\n",
       "      <td>12900</td>\n",
       "      <td>16.10</td>\n",
       "      <td>76.5</td>\n",
       "      <td>2.89</td>\n",
       "      <td>4460</td>\n",
       "    </tr>\n",
       "    <tr>\n",
       "      <th>3</th>\n",
       "      <td>Angola</td>\n",
       "      <td>119.0</td>\n",
       "      <td>62.3</td>\n",
       "      <td>2.85</td>\n",
       "      <td>42.9</td>\n",
       "      <td>5900</td>\n",
       "      <td>22.40</td>\n",
       "      <td>60.1</td>\n",
       "      <td>6.16</td>\n",
       "      <td>3530</td>\n",
       "    </tr>\n",
       "    <tr>\n",
       "      <th>4</th>\n",
       "      <td>Antigua and Barbuda</td>\n",
       "      <td>10.3</td>\n",
       "      <td>45.5</td>\n",
       "      <td>6.03</td>\n",
       "      <td>58.9</td>\n",
       "      <td>19100</td>\n",
       "      <td>1.44</td>\n",
       "      <td>76.8</td>\n",
       "      <td>2.13</td>\n",
       "      <td>12200</td>\n",
       "    </tr>\n",
       "  </tbody>\n",
       "</table>\n",
       "</div>"
      ],
      "text/plain": [
       "               country  child_mort  exports  health  imports  income  \\\n",
       "0          Afghanistan        90.2     10.0    7.58     44.9    1610   \n",
       "1              Albania        16.6     28.0    6.55     48.6    9930   \n",
       "2              Algeria        27.3     38.4    4.17     31.4   12900   \n",
       "3               Angola       119.0     62.3    2.85     42.9    5900   \n",
       "4  Antigua and Barbuda        10.3     45.5    6.03     58.9   19100   \n",
       "\n",
       "   inflation  life_expec  total_fer   gdpp  \n",
       "0       9.44        56.2       5.82    553  \n",
       "1       4.49        76.3       1.65   4090  \n",
       "2      16.10        76.5       2.89   4460  \n",
       "3      22.40        60.1       6.16   3530  \n",
       "4       1.44        76.8       2.13  12200  "
      ]
     },
     "execution_count": 7,
     "metadata": {},
     "output_type": "execute_result"
    }
   ],
   "source": [
    "# To check the first 5 rows in the data\n",
    "\n",
    "country_data.head()"
   ]
  },
  {
   "cell_type": "code",
   "execution_count": 8,
   "id": "1bd0f48b",
   "metadata": {},
   "outputs": [
    {
     "data": {
      "text/html": [
       "<div>\n",
       "<style scoped>\n",
       "    .dataframe tbody tr th:only-of-type {\n",
       "        vertical-align: middle;\n",
       "    }\n",
       "\n",
       "    .dataframe tbody tr th {\n",
       "        vertical-align: top;\n",
       "    }\n",
       "\n",
       "    .dataframe thead th {\n",
       "        text-align: right;\n",
       "    }\n",
       "</style>\n",
       "<table border=\"1\" class=\"dataframe\">\n",
       "  <thead>\n",
       "    <tr style=\"text-align: right;\">\n",
       "      <th></th>\n",
       "      <th>country</th>\n",
       "      <th>child_mort</th>\n",
       "      <th>exports</th>\n",
       "      <th>health</th>\n",
       "      <th>imports</th>\n",
       "      <th>income</th>\n",
       "      <th>inflation</th>\n",
       "      <th>life_expec</th>\n",
       "      <th>total_fer</th>\n",
       "      <th>gdpp</th>\n",
       "    </tr>\n",
       "  </thead>\n",
       "  <tbody>\n",
       "    <tr>\n",
       "      <th>150</th>\n",
       "      <td>Togo</td>\n",
       "      <td>90.3</td>\n",
       "      <td>40.2</td>\n",
       "      <td>7.65</td>\n",
       "      <td>57.3</td>\n",
       "      <td>1210</td>\n",
       "      <td>1.180</td>\n",
       "      <td>58.7</td>\n",
       "      <td>4.87</td>\n",
       "      <td>488</td>\n",
       "    </tr>\n",
       "    <tr>\n",
       "      <th>56</th>\n",
       "      <td>Gambia</td>\n",
       "      <td>80.3</td>\n",
       "      <td>23.8</td>\n",
       "      <td>5.69</td>\n",
       "      <td>42.7</td>\n",
       "      <td>1660</td>\n",
       "      <td>4.300</td>\n",
       "      <td>65.5</td>\n",
       "      <td>5.71</td>\n",
       "      <td>562</td>\n",
       "    </tr>\n",
       "    <tr>\n",
       "      <th>123</th>\n",
       "      <td>Qatar</td>\n",
       "      <td>9.0</td>\n",
       "      <td>62.3</td>\n",
       "      <td>1.81</td>\n",
       "      <td>23.8</td>\n",
       "      <td>125000</td>\n",
       "      <td>6.980</td>\n",
       "      <td>79.5</td>\n",
       "      <td>2.07</td>\n",
       "      <td>70300</td>\n",
       "    </tr>\n",
       "    <tr>\n",
       "      <th>60</th>\n",
       "      <td>Greece</td>\n",
       "      <td>3.9</td>\n",
       "      <td>22.1</td>\n",
       "      <td>10.30</td>\n",
       "      <td>30.7</td>\n",
       "      <td>28700</td>\n",
       "      <td>0.673</td>\n",
       "      <td>80.4</td>\n",
       "      <td>1.48</td>\n",
       "      <td>26900</td>\n",
       "    </tr>\n",
       "    <tr>\n",
       "      <th>100</th>\n",
       "      <td>Mauritius</td>\n",
       "      <td>15.0</td>\n",
       "      <td>51.2</td>\n",
       "      <td>6.00</td>\n",
       "      <td>62.2</td>\n",
       "      <td>15900</td>\n",
       "      <td>1.130</td>\n",
       "      <td>73.4</td>\n",
       "      <td>1.57</td>\n",
       "      <td>8000</td>\n",
       "    </tr>\n",
       "    <tr>\n",
       "      <th>51</th>\n",
       "      <td>Estonia</td>\n",
       "      <td>4.5</td>\n",
       "      <td>75.1</td>\n",
       "      <td>6.03</td>\n",
       "      <td>68.7</td>\n",
       "      <td>22700</td>\n",
       "      <td>1.740</td>\n",
       "      <td>76.0</td>\n",
       "      <td>1.72</td>\n",
       "      <td>14600</td>\n",
       "    </tr>\n",
       "    <tr>\n",
       "      <th>7</th>\n",
       "      <td>Australia</td>\n",
       "      <td>4.8</td>\n",
       "      <td>19.8</td>\n",
       "      <td>8.73</td>\n",
       "      <td>20.9</td>\n",
       "      <td>41400</td>\n",
       "      <td>1.160</td>\n",
       "      <td>82.0</td>\n",
       "      <td>1.93</td>\n",
       "      <td>51900</td>\n",
       "    </tr>\n",
       "    <tr>\n",
       "      <th>5</th>\n",
       "      <td>Argentina</td>\n",
       "      <td>14.5</td>\n",
       "      <td>18.9</td>\n",
       "      <td>8.10</td>\n",
       "      <td>16.0</td>\n",
       "      <td>18700</td>\n",
       "      <td>20.900</td>\n",
       "      <td>75.8</td>\n",
       "      <td>2.37</td>\n",
       "      <td>10300</td>\n",
       "    </tr>\n",
       "    <tr>\n",
       "      <th>86</th>\n",
       "      <td>Lebanon</td>\n",
       "      <td>10.3</td>\n",
       "      <td>35.8</td>\n",
       "      <td>7.03</td>\n",
       "      <td>60.2</td>\n",
       "      <td>16300</td>\n",
       "      <td>0.238</td>\n",
       "      <td>79.8</td>\n",
       "      <td>1.61</td>\n",
       "      <td>8860</td>\n",
       "    </tr>\n",
       "    <tr>\n",
       "      <th>135</th>\n",
       "      <td>Slovenia</td>\n",
       "      <td>3.2</td>\n",
       "      <td>64.3</td>\n",
       "      <td>9.41</td>\n",
       "      <td>62.9</td>\n",
       "      <td>28700</td>\n",
       "      <td>-0.987</td>\n",
       "      <td>79.5</td>\n",
       "      <td>1.57</td>\n",
       "      <td>23400</td>\n",
       "    </tr>\n",
       "  </tbody>\n",
       "</table>\n",
       "</div>"
      ],
      "text/plain": [
       "       country  child_mort  exports  health  imports  income  inflation  \\\n",
       "150       Togo        90.3     40.2    7.65     57.3    1210      1.180   \n",
       "56      Gambia        80.3     23.8    5.69     42.7    1660      4.300   \n",
       "123      Qatar         9.0     62.3    1.81     23.8  125000      6.980   \n",
       "60      Greece         3.9     22.1   10.30     30.7   28700      0.673   \n",
       "100  Mauritius        15.0     51.2    6.00     62.2   15900      1.130   \n",
       "51     Estonia         4.5     75.1    6.03     68.7   22700      1.740   \n",
       "7    Australia         4.8     19.8    8.73     20.9   41400      1.160   \n",
       "5    Argentina        14.5     18.9    8.10     16.0   18700     20.900   \n",
       "86     Lebanon        10.3     35.8    7.03     60.2   16300      0.238   \n",
       "135   Slovenia         3.2     64.3    9.41     62.9   28700     -0.987   \n",
       "\n",
       "     life_expec  total_fer   gdpp  \n",
       "150        58.7       4.87    488  \n",
       "56         65.5       5.71    562  \n",
       "123        79.5       2.07  70300  \n",
       "60         80.4       1.48  26900  \n",
       "100        73.4       1.57   8000  \n",
       "51         76.0       1.72  14600  \n",
       "7          82.0       1.93  51900  \n",
       "5          75.8       2.37  10300  \n",
       "86         79.8       1.61   8860  \n",
       "135        79.5       1.57  23400  "
      ]
     },
     "execution_count": 8,
     "metadata": {},
     "output_type": "execute_result"
    }
   ],
   "source": [
    "# To ramdomly check any 10 rows in the dataset\n",
    "\n",
    "country_data.sample(10, random_state=0)"
   ]
  },
  {
   "cell_type": "code",
   "execution_count": 9,
   "id": "18426376",
   "metadata": {},
   "outputs": [
    {
     "data": {
      "text/plain": [
       "(167, 10)"
      ]
     },
     "execution_count": 9,
     "metadata": {},
     "output_type": "execute_result"
    }
   ],
   "source": [
    "# To know the dimensions of the data\n",
    "\n",
    "country_data.shape"
   ]
  },
  {
   "cell_type": "markdown",
   "id": "69997298",
   "metadata": {},
   "source": [
    "- There are 167 rows and 10 columns in the data"
   ]
  },
  {
   "cell_type": "code",
   "execution_count": 10,
   "id": "d04465dd",
   "metadata": {},
   "outputs": [
    {
     "name": "stdout",
     "output_type": "stream",
     "text": [
      "<class 'pandas.core.frame.DataFrame'>\n",
      "RangeIndex: 167 entries, 0 to 166\n",
      "Data columns (total 10 columns):\n",
      " #   Column      Non-Null Count  Dtype  \n",
      "---  ------      --------------  -----  \n",
      " 0   country     167 non-null    object \n",
      " 1   child_mort  167 non-null    float64\n",
      " 2   exports     167 non-null    float64\n",
      " 3   health      167 non-null    float64\n",
      " 4   imports     167 non-null    float64\n",
      " 5   income      167 non-null    int64  \n",
      " 6   inflation   167 non-null    float64\n",
      " 7   life_expec  167 non-null    float64\n",
      " 8   total_fer   167 non-null    float64\n",
      " 9   gdpp        167 non-null    int64  \n",
      "dtypes: float64(7), int64(2), object(1)\n",
      "memory usage: 13.2+ KB\n"
     ]
    }
   ],
   "source": [
    "# To check the data types\n",
    "\n",
    "country_data.info()"
   ]
  },
  {
   "cell_type": "markdown",
   "id": "aaa0dd29",
   "metadata": {},
   "source": [
    "**Observations**\n",
    "\n",
    "- There are 167 rows and 10 columns in the data\n",
    "- There are 7 columns with floats data types(child_mort, exports, health, imports, inflation, life_expec and total_f\n",
    "- There are 2 columns with interger data types (income and gdpp)\n",
    "- All the 19 columns have numerical variables\n",
    "- There is 1 categorical (object) variable in the data (country)\n",
    "- The data occuppies the memory space of 13.2KB"
   ]
  },
  {
   "cell_type": "code",
   "execution_count": 12,
   "id": "b91e6f0b",
   "metadata": {},
   "outputs": [
    {
     "data": {
      "text/html": [
       "<div>\n",
       "<style scoped>\n",
       "    .dataframe tbody tr th:only-of-type {\n",
       "        vertical-align: middle;\n",
       "    }\n",
       "\n",
       "    .dataframe tbody tr th {\n",
       "        vertical-align: top;\n",
       "    }\n",
       "\n",
       "    .dataframe thead th {\n",
       "        text-align: right;\n",
       "    }\n",
       "</style>\n",
       "<table border=\"1\" class=\"dataframe\">\n",
       "  <thead>\n",
       "    <tr style=\"text-align: right;\">\n",
       "      <th></th>\n",
       "      <th>country</th>\n",
       "      <th>child_mort</th>\n",
       "      <th>exports</th>\n",
       "      <th>health</th>\n",
       "      <th>imports</th>\n",
       "      <th>income</th>\n",
       "      <th>inflation</th>\n",
       "      <th>life_expec</th>\n",
       "      <th>total_fer</th>\n",
       "      <th>gdpp</th>\n",
       "    </tr>\n",
       "  </thead>\n",
       "  <tbody>\n",
       "    <tr>\n",
       "      <th>count</th>\n",
       "      <td>167</td>\n",
       "      <td>167.000000</td>\n",
       "      <td>167.000000</td>\n",
       "      <td>167.000000</td>\n",
       "      <td>167.000000</td>\n",
       "      <td>167.000000</td>\n",
       "      <td>167.000000</td>\n",
       "      <td>167.000000</td>\n",
       "      <td>167.000000</td>\n",
       "      <td>167.000000</td>\n",
       "    </tr>\n",
       "    <tr>\n",
       "      <th>unique</th>\n",
       "      <td>167</td>\n",
       "      <td>NaN</td>\n",
       "      <td>NaN</td>\n",
       "      <td>NaN</td>\n",
       "      <td>NaN</td>\n",
       "      <td>NaN</td>\n",
       "      <td>NaN</td>\n",
       "      <td>NaN</td>\n",
       "      <td>NaN</td>\n",
       "      <td>NaN</td>\n",
       "    </tr>\n",
       "    <tr>\n",
       "      <th>top</th>\n",
       "      <td>Afghanistan</td>\n",
       "      <td>NaN</td>\n",
       "      <td>NaN</td>\n",
       "      <td>NaN</td>\n",
       "      <td>NaN</td>\n",
       "      <td>NaN</td>\n",
       "      <td>NaN</td>\n",
       "      <td>NaN</td>\n",
       "      <td>NaN</td>\n",
       "      <td>NaN</td>\n",
       "    </tr>\n",
       "    <tr>\n",
       "      <th>freq</th>\n",
       "      <td>1</td>\n",
       "      <td>NaN</td>\n",
       "      <td>NaN</td>\n",
       "      <td>NaN</td>\n",
       "      <td>NaN</td>\n",
       "      <td>NaN</td>\n",
       "      <td>NaN</td>\n",
       "      <td>NaN</td>\n",
       "      <td>NaN</td>\n",
       "      <td>NaN</td>\n",
       "    </tr>\n",
       "    <tr>\n",
       "      <th>mean</th>\n",
       "      <td>NaN</td>\n",
       "      <td>38.270060</td>\n",
       "      <td>41.108976</td>\n",
       "      <td>6.815689</td>\n",
       "      <td>46.890215</td>\n",
       "      <td>17144.688623</td>\n",
       "      <td>7.781832</td>\n",
       "      <td>70.555689</td>\n",
       "      <td>2.947964</td>\n",
       "      <td>12964.155689</td>\n",
       "    </tr>\n",
       "    <tr>\n",
       "      <th>std</th>\n",
       "      <td>NaN</td>\n",
       "      <td>40.328931</td>\n",
       "      <td>27.412010</td>\n",
       "      <td>2.746837</td>\n",
       "      <td>24.209589</td>\n",
       "      <td>19278.067698</td>\n",
       "      <td>10.570704</td>\n",
       "      <td>8.893172</td>\n",
       "      <td>1.513848</td>\n",
       "      <td>18328.704809</td>\n",
       "    </tr>\n",
       "    <tr>\n",
       "      <th>min</th>\n",
       "      <td>NaN</td>\n",
       "      <td>2.600000</td>\n",
       "      <td>0.109000</td>\n",
       "      <td>1.810000</td>\n",
       "      <td>0.065900</td>\n",
       "      <td>609.000000</td>\n",
       "      <td>-4.210000</td>\n",
       "      <td>32.100000</td>\n",
       "      <td>1.150000</td>\n",
       "      <td>231.000000</td>\n",
       "    </tr>\n",
       "    <tr>\n",
       "      <th>25%</th>\n",
       "      <td>NaN</td>\n",
       "      <td>8.250000</td>\n",
       "      <td>23.800000</td>\n",
       "      <td>4.920000</td>\n",
       "      <td>30.200000</td>\n",
       "      <td>3355.000000</td>\n",
       "      <td>1.810000</td>\n",
       "      <td>65.300000</td>\n",
       "      <td>1.795000</td>\n",
       "      <td>1330.000000</td>\n",
       "    </tr>\n",
       "    <tr>\n",
       "      <th>50%</th>\n",
       "      <td>NaN</td>\n",
       "      <td>19.300000</td>\n",
       "      <td>35.000000</td>\n",
       "      <td>6.320000</td>\n",
       "      <td>43.300000</td>\n",
       "      <td>9960.000000</td>\n",
       "      <td>5.390000</td>\n",
       "      <td>73.100000</td>\n",
       "      <td>2.410000</td>\n",
       "      <td>4660.000000</td>\n",
       "    </tr>\n",
       "    <tr>\n",
       "      <th>75%</th>\n",
       "      <td>NaN</td>\n",
       "      <td>62.100000</td>\n",
       "      <td>51.350000</td>\n",
       "      <td>8.600000</td>\n",
       "      <td>58.750000</td>\n",
       "      <td>22800.000000</td>\n",
       "      <td>10.750000</td>\n",
       "      <td>76.800000</td>\n",
       "      <td>3.880000</td>\n",
       "      <td>14050.000000</td>\n",
       "    </tr>\n",
       "    <tr>\n",
       "      <th>max</th>\n",
       "      <td>NaN</td>\n",
       "      <td>208.000000</td>\n",
       "      <td>200.000000</td>\n",
       "      <td>17.900000</td>\n",
       "      <td>174.000000</td>\n",
       "      <td>125000.000000</td>\n",
       "      <td>104.000000</td>\n",
       "      <td>82.800000</td>\n",
       "      <td>7.490000</td>\n",
       "      <td>105000.000000</td>\n",
       "    </tr>\n",
       "  </tbody>\n",
       "</table>\n",
       "</div>"
      ],
      "text/plain": [
       "            country  child_mort     exports      health     imports  \\\n",
       "count           167  167.000000  167.000000  167.000000  167.000000   \n",
       "unique          167         NaN         NaN         NaN         NaN   \n",
       "top     Afghanistan         NaN         NaN         NaN         NaN   \n",
       "freq              1         NaN         NaN         NaN         NaN   \n",
       "mean            NaN   38.270060   41.108976    6.815689   46.890215   \n",
       "std             NaN   40.328931   27.412010    2.746837   24.209589   \n",
       "min             NaN    2.600000    0.109000    1.810000    0.065900   \n",
       "25%             NaN    8.250000   23.800000    4.920000   30.200000   \n",
       "50%             NaN   19.300000   35.000000    6.320000   43.300000   \n",
       "75%             NaN   62.100000   51.350000    8.600000   58.750000   \n",
       "max             NaN  208.000000  200.000000   17.900000  174.000000   \n",
       "\n",
       "               income   inflation  life_expec   total_fer           gdpp  \n",
       "count      167.000000  167.000000  167.000000  167.000000     167.000000  \n",
       "unique            NaN         NaN         NaN         NaN            NaN  \n",
       "top               NaN         NaN         NaN         NaN            NaN  \n",
       "freq              NaN         NaN         NaN         NaN            NaN  \n",
       "mean     17144.688623    7.781832   70.555689    2.947964   12964.155689  \n",
       "std      19278.067698   10.570704    8.893172    1.513848   18328.704809  \n",
       "min        609.000000   -4.210000   32.100000    1.150000     231.000000  \n",
       "25%       3355.000000    1.810000   65.300000    1.795000    1330.000000  \n",
       "50%       9960.000000    5.390000   73.100000    2.410000    4660.000000  \n",
       "75%      22800.000000   10.750000   76.800000    3.880000   14050.000000  \n",
       "max     125000.000000  104.000000   82.800000    7.490000  105000.000000  "
      ]
     },
     "execution_count": 12,
     "metadata": {},
     "output_type": "execute_result"
    }
   ],
   "source": [
    "# To know the descriptive statistics of the data\n",
    "\n",
    "country_data.describe(include=\"all\")"
   ]
  },
  {
   "cell_type": "markdown",
   "id": "b054c407",
   "metadata": {},
   "source": [
    "**Observation**\n",
    "\n",
    "- The top \"country\" in the data is Afghanistan and it occurs 167 times\n",
    "- The median of the \"child_mort\" is 19.3\n",
    "- The average mean of the \"inflation\" is 7.78\n",
    "- The maximum \"gpdd\" is 105,000 and the least is 231.\n",
    "- The minimum \"income\" is 609 and the maximum is 125,000"
   ]
  },
  {
   "cell_type": "code",
   "execution_count": 13,
   "id": "9c818899",
   "metadata": {},
   "outputs": [
    {
     "data": {
      "text/plain": [
       "0"
      ]
     },
     "execution_count": 13,
     "metadata": {},
     "output_type": "execute_result"
    }
   ],
   "source": [
    "# To check the duplication in the data\n",
    "\n",
    "country_data.duplicated().sum()"
   ]
  },
  {
   "cell_type": "markdown",
   "id": "9e96ceaa",
   "metadata": {},
   "source": [
    "- There is no duplication in the data"
   ]
  },
  {
   "cell_type": "code",
   "execution_count": 14,
   "id": "c96980a7",
   "metadata": {},
   "outputs": [
    {
     "data": {
      "text/plain": [
       "country       0\n",
       "child_mort    0\n",
       "exports       0\n",
       "health        0\n",
       "imports       0\n",
       "income        0\n",
       "inflation     0\n",
       "life_expec    0\n",
       "total_fer     0\n",
       "gdpp          0\n",
       "dtype: int64"
      ]
     },
     "execution_count": 14,
     "metadata": {},
     "output_type": "execute_result"
    }
   ],
   "source": [
    "# To check the missing values in the data\n",
    "\n",
    "country_data.isna().sum()"
   ]
  },
  {
   "cell_type": "markdown",
   "id": "14a551da",
   "metadata": {},
   "source": [
    "- There is no missing values in the data"
   ]
  },
  {
   "cell_type": "code",
   "execution_count": 9,
   "id": "405b0d82",
   "metadata": {},
   "outputs": [],
   "source": [
    "# To create a copy of the data\n",
    "\n",
    "country = country_data.copy()"
   ]
  },
  {
   "cell_type": "code",
   "execution_count": 10,
   "id": "91457ade",
   "metadata": {},
   "outputs": [],
   "source": [
    "# To drop the column with the categorical variable \"country\" from the data\n",
    "\n",
    "country.drop(\"country\", axis = 1, inplace = True)"
   ]
  },
  {
   "cell_type": "code",
   "execution_count": 11,
   "id": "4bdbec69",
   "metadata": {},
   "outputs": [
    {
     "data": {
      "text/html": [
       "<div>\n",
       "<style scoped>\n",
       "    .dataframe tbody tr th:only-of-type {\n",
       "        vertical-align: middle;\n",
       "    }\n",
       "\n",
       "    .dataframe tbody tr th {\n",
       "        vertical-align: top;\n",
       "    }\n",
       "\n",
       "    .dataframe thead th {\n",
       "        text-align: right;\n",
       "    }\n",
       "</style>\n",
       "<table border=\"1\" class=\"dataframe\">\n",
       "  <thead>\n",
       "    <tr style=\"text-align: right;\">\n",
       "      <th></th>\n",
       "      <th>child_mort</th>\n",
       "      <th>exports</th>\n",
       "      <th>health</th>\n",
       "      <th>imports</th>\n",
       "      <th>income</th>\n",
       "      <th>inflation</th>\n",
       "      <th>life_expec</th>\n",
       "      <th>total_fer</th>\n",
       "      <th>gdpp</th>\n",
       "    </tr>\n",
       "  </thead>\n",
       "  <tbody>\n",
       "    <tr>\n",
       "      <th>0</th>\n",
       "      <td>90.2</td>\n",
       "      <td>10.0</td>\n",
       "      <td>7.58</td>\n",
       "      <td>44.9</td>\n",
       "      <td>1610</td>\n",
       "      <td>9.44</td>\n",
       "      <td>56.2</td>\n",
       "      <td>5.82</td>\n",
       "      <td>553</td>\n",
       "    </tr>\n",
       "    <tr>\n",
       "      <th>1</th>\n",
       "      <td>16.6</td>\n",
       "      <td>28.0</td>\n",
       "      <td>6.55</td>\n",
       "      <td>48.6</td>\n",
       "      <td>9930</td>\n",
       "      <td>4.49</td>\n",
       "      <td>76.3</td>\n",
       "      <td>1.65</td>\n",
       "      <td>4090</td>\n",
       "    </tr>\n",
       "    <tr>\n",
       "      <th>2</th>\n",
       "      <td>27.3</td>\n",
       "      <td>38.4</td>\n",
       "      <td>4.17</td>\n",
       "      <td>31.4</td>\n",
       "      <td>12900</td>\n",
       "      <td>16.10</td>\n",
       "      <td>76.5</td>\n",
       "      <td>2.89</td>\n",
       "      <td>4460</td>\n",
       "    </tr>\n",
       "    <tr>\n",
       "      <th>3</th>\n",
       "      <td>119.0</td>\n",
       "      <td>62.3</td>\n",
       "      <td>2.85</td>\n",
       "      <td>42.9</td>\n",
       "      <td>5900</td>\n",
       "      <td>22.40</td>\n",
       "      <td>60.1</td>\n",
       "      <td>6.16</td>\n",
       "      <td>3530</td>\n",
       "    </tr>\n",
       "    <tr>\n",
       "      <th>4</th>\n",
       "      <td>10.3</td>\n",
       "      <td>45.5</td>\n",
       "      <td>6.03</td>\n",
       "      <td>58.9</td>\n",
       "      <td>19100</td>\n",
       "      <td>1.44</td>\n",
       "      <td>76.8</td>\n",
       "      <td>2.13</td>\n",
       "      <td>12200</td>\n",
       "    </tr>\n",
       "  </tbody>\n",
       "</table>\n",
       "</div>"
      ],
      "text/plain": [
       "   child_mort  exports  health  imports  income  inflation  life_expec  \\\n",
       "0        90.2     10.0    7.58     44.9    1610       9.44        56.2   \n",
       "1        16.6     28.0    6.55     48.6    9930       4.49        76.3   \n",
       "2        27.3     38.4    4.17     31.4   12900      16.10        76.5   \n",
       "3       119.0     62.3    2.85     42.9    5900      22.40        60.1   \n",
       "4        10.3     45.5    6.03     58.9   19100       1.44        76.8   \n",
       "\n",
       "   total_fer   gdpp  \n",
       "0       5.82    553  \n",
       "1       1.65   4090  \n",
       "2       2.89   4460  \n",
       "3       6.16   3530  \n",
       "4       2.13  12200  "
      ]
     },
     "execution_count": 11,
     "metadata": {},
     "output_type": "execute_result"
    }
   ],
   "source": [
    "# To check the data after dropping the column with the categorical variable\n",
    "\n",
    "country.head()"
   ]
  },
  {
   "cell_type": "code",
   "execution_count": 13,
   "id": "4bc72c71",
   "metadata": {},
   "outputs": [
    {
     "data": {
      "text/plain": [
       "array([[0.42648491, 0.04948197, 0.35860783, ..., 0.47534517, 0.73659306,\n",
       "        0.00307343],\n",
       "       [0.06815969, 0.13953104, 0.29459291, ..., 0.87179487, 0.07886435,\n",
       "        0.03683341],\n",
       "       [0.12025316, 0.1915594 , 0.14667495, ..., 0.87573964, 0.27444795,\n",
       "        0.04036499],\n",
       "       ...,\n",
       "       [0.10077897, 0.35965101, 0.31261653, ..., 0.8086785 , 0.12618297,\n",
       "        0.01029885],\n",
       "       [0.26144109, 0.1495365 , 0.20944686, ..., 0.69822485, 0.55520505,\n",
       "        0.01029885],\n",
       "       [0.39191821, 0.18455558, 0.25357365, ..., 0.39250493, 0.670347  ,\n",
       "        0.01173057]])"
      ]
     },
     "execution_count": 13,
     "metadata": {},
     "output_type": "execute_result"
    }
   ],
   "source": [
    "# To create an instant of the scaler \n",
    "\n",
    "scaler = MinMaxScaler()\n",
    "\n",
    "# To calculate each variable to have a range between 0 and 1, and convert each varaible to have a range between 0 and 1\n",
    "\n",
    "country_scaler = scaler.fit_transform(country)\n",
    "\n",
    "# To confirm the transformation\n",
    "\n",
    "country_scaler"
   ]
  },
  {
   "cell_type": "code",
   "execution_count": 14,
   "id": "35ca86c5",
   "metadata": {},
   "outputs": [
    {
     "data": {
      "text/plain": [
       "KMeans()"
      ]
     },
     "execution_count": 14,
     "metadata": {},
     "output_type": "execute_result"
    }
   ],
   "source": [
    "# create an instance of kmeans, setting the cluster to the default number of 8\n",
    "\n",
    "kmeans = KMeans()\n",
    "\n",
    "# To train the data\n",
    "\n",
    "kmeans.fit(country_scaler)\n"
   ]
  },
  {
   "cell_type": "code",
   "execution_count": 15,
   "id": "fd0e40e8",
   "metadata": {},
   "outputs": [],
   "source": [
    "# To get the labels\n",
    "\n",
    "labels =kmeans.predict(country_scaler)"
   ]
  },
  {
   "cell_type": "code",
   "execution_count": 16,
   "id": "a1462989",
   "metadata": {},
   "outputs": [
    {
     "data": {
      "text/plain": [
       "array([3, 7, 1, 3, 7, 1, 1, 0, 0, 1, 7, 5, 1, 7, 7, 0, 6, 3, 6, 6, 7, 6,\n",
       "       1, 5, 7, 3, 2, 6, 3, 0, 6, 3, 3, 7, 1, 1, 3, 3, 3, 7, 3, 7, 7, 7,\n",
       "       0, 1, 1, 1, 1, 3, 3, 7, 6, 0, 0, 3, 3, 7, 0, 3, 0, 1, 6, 3, 3, 6,\n",
       "       3, 7, 0, 1, 1, 1, 6, 0, 0, 0, 1, 0, 6, 1, 3, 2, 5, 6, 6, 7, 7, 2,\n",
       "       2, 1, 7, 4, 7, 3, 3, 7, 7, 3, 4, 3, 7, 2, 7, 6, 7, 1, 3, 1, 6, 1,\n",
       "       0, 0, 3, 3, 0, 5, 3, 7, 6, 1, 6, 7, 0, 5, 1, 1, 2, 6, 5, 3, 7, 7,\n",
       "       2, 4, 7, 7, 6, 6, 7, 0, 1, 1, 3, 1, 0, 0, 6, 3, 7, 3, 3, 6, 7, 1,\n",
       "       6, 3, 7, 5, 0, 0, 1, 1, 6, 1, 7, 3, 3])"
      ]
     },
     "execution_count": 16,
     "metadata": {},
     "output_type": "execute_result"
    }
   ],
   "source": [
    "# To check the 8 clusters formed\n",
    "\n",
    "labels"
   ]
  },
  {
   "cell_type": "code",
   "execution_count": 17,
   "id": "3550821a",
   "metadata": {},
   "outputs": [],
   "source": [
    "# To create a copy of the original data\n",
    "\n",
    "df_country = country_data.copy()"
   ]
  },
  {
   "cell_type": "code",
   "execution_count": 18,
   "id": "3249a723",
   "metadata": {},
   "outputs": [],
   "source": [
    "# to create new column using label and \"cluster\" as the column name \n",
    "\n",
    "df_country[\"clusters\"] = labels"
   ]
  },
  {
   "cell_type": "code",
   "execution_count": 19,
   "id": "c63cc647",
   "metadata": {},
   "outputs": [
    {
     "data": {
      "text/html": [
       "<div>\n",
       "<style scoped>\n",
       "    .dataframe tbody tr th:only-of-type {\n",
       "        vertical-align: middle;\n",
       "    }\n",
       "\n",
       "    .dataframe tbody tr th {\n",
       "        vertical-align: top;\n",
       "    }\n",
       "\n",
       "    .dataframe thead th {\n",
       "        text-align: right;\n",
       "    }\n",
       "</style>\n",
       "<table border=\"1\" class=\"dataframe\">\n",
       "  <thead>\n",
       "    <tr style=\"text-align: right;\">\n",
       "      <th></th>\n",
       "      <th>country</th>\n",
       "      <th>child_mort</th>\n",
       "      <th>exports</th>\n",
       "      <th>health</th>\n",
       "      <th>imports</th>\n",
       "      <th>income</th>\n",
       "      <th>inflation</th>\n",
       "      <th>life_expec</th>\n",
       "      <th>total_fer</th>\n",
       "      <th>gdpp</th>\n",
       "      <th>clusters</th>\n",
       "    </tr>\n",
       "  </thead>\n",
       "  <tbody>\n",
       "    <tr>\n",
       "      <th>0</th>\n",
       "      <td>Afghanistan</td>\n",
       "      <td>90.2</td>\n",
       "      <td>10.0</td>\n",
       "      <td>7.58</td>\n",
       "      <td>44.9</td>\n",
       "      <td>1610</td>\n",
       "      <td>9.44</td>\n",
       "      <td>56.2</td>\n",
       "      <td>5.82</td>\n",
       "      <td>553</td>\n",
       "      <td>3</td>\n",
       "    </tr>\n",
       "    <tr>\n",
       "      <th>1</th>\n",
       "      <td>Albania</td>\n",
       "      <td>16.6</td>\n",
       "      <td>28.0</td>\n",
       "      <td>6.55</td>\n",
       "      <td>48.6</td>\n",
       "      <td>9930</td>\n",
       "      <td>4.49</td>\n",
       "      <td>76.3</td>\n",
       "      <td>1.65</td>\n",
       "      <td>4090</td>\n",
       "      <td>7</td>\n",
       "    </tr>\n",
       "    <tr>\n",
       "      <th>2</th>\n",
       "      <td>Algeria</td>\n",
       "      <td>27.3</td>\n",
       "      <td>38.4</td>\n",
       "      <td>4.17</td>\n",
       "      <td>31.4</td>\n",
       "      <td>12900</td>\n",
       "      <td>16.10</td>\n",
       "      <td>76.5</td>\n",
       "      <td>2.89</td>\n",
       "      <td>4460</td>\n",
       "      <td>1</td>\n",
       "    </tr>\n",
       "    <tr>\n",
       "      <th>3</th>\n",
       "      <td>Angola</td>\n",
       "      <td>119.0</td>\n",
       "      <td>62.3</td>\n",
       "      <td>2.85</td>\n",
       "      <td>42.9</td>\n",
       "      <td>5900</td>\n",
       "      <td>22.40</td>\n",
       "      <td>60.1</td>\n",
       "      <td>6.16</td>\n",
       "      <td>3530</td>\n",
       "      <td>3</td>\n",
       "    </tr>\n",
       "    <tr>\n",
       "      <th>4</th>\n",
       "      <td>Antigua and Barbuda</td>\n",
       "      <td>10.3</td>\n",
       "      <td>45.5</td>\n",
       "      <td>6.03</td>\n",
       "      <td>58.9</td>\n",
       "      <td>19100</td>\n",
       "      <td>1.44</td>\n",
       "      <td>76.8</td>\n",
       "      <td>2.13</td>\n",
       "      <td>12200</td>\n",
       "      <td>7</td>\n",
       "    </tr>\n",
       "  </tbody>\n",
       "</table>\n",
       "</div>"
      ],
      "text/plain": [
       "               country  child_mort  exports  health  imports  income  \\\n",
       "0          Afghanistan        90.2     10.0    7.58     44.9    1610   \n",
       "1              Albania        16.6     28.0    6.55     48.6    9930   \n",
       "2              Algeria        27.3     38.4    4.17     31.4   12900   \n",
       "3               Angola       119.0     62.3    2.85     42.9    5900   \n",
       "4  Antigua and Barbuda        10.3     45.5    6.03     58.9   19100   \n",
       "\n",
       "   inflation  life_expec  total_fer   gdpp  clusters  \n",
       "0       9.44        56.2       5.82    553         3  \n",
       "1       4.49        76.3       1.65   4090         7  \n",
       "2      16.10        76.5       2.89   4460         1  \n",
       "3      22.40        60.1       6.16   3530         3  \n",
       "4       1.44        76.8       2.13  12200         7  "
      ]
     },
     "execution_count": 19,
     "metadata": {},
     "output_type": "execute_result"
    }
   ],
   "source": [
    "# To check the first 5 rows of the new data; df_country\n",
    "\n",
    "df_country.head()"
   ]
  },
  {
   "cell_type": "code",
   "execution_count": 21,
   "id": "7a77c4a5",
   "metadata": {},
   "outputs": [
    {
     "data": {
      "image/png": "[encoded data removed]",
      "text/plain": [
       "<Figure size 864x504 with 1 Axes>"
      ]
     },
     "metadata": {
      "needs_background": "light"
     },
     "output_type": "display_data"
    }
   ],
   "source": [
    "# To visualise the variables using boxplot\n",
    "\n",
    "plt.figure(figsize= (12,7))\n",
    "sns.boxplot(data = df_country, x= \"clusters\", y = \"child_mort\")\n",
    "plt.title(\"Boxplot of the clusters and the child_mort\")\n",
    "plt.xlabel(\"clusters\")\n",
    "plt.ylabel(\"child_mort\")\n",
    "plt.show();"
   ]
  },
  {
   "cell_type": "markdown",
   "id": "73897e14",
   "metadata": {},
   "source": [
    " **Observations from the boxplot**\n",
    "\n",
    "- The countries in clusters 0, 4, 5 and 7 have low child mortality. The countries in clusters 0 and 4 have the lowest.\n",
    "- The countries in clusters 2 and 3 have the highest child mortality on average. Their avearge child mortality is above 90."
   ]
  },
  {
   "cell_type": "code",
   "execution_count": 22,
   "id": "dc69b386",
   "metadata": {},
   "outputs": [
    {
     "data": {
      "image/png": "[encoded data removed]",
      "text/plain": [
       "<Figure size 864x504 with 1 Axes>"
      ]
     },
     "metadata": {
      "needs_background": "light"
     },
     "output_type": "display_data"
    }
   ],
   "source": [
    "# To visualise clusters and gdpp using boxplot\n",
    "\n",
    "plt.figure(figsize= (12,7))\n",
    "sns.boxplot(data = df_country, x= \"clusters\", y = \"gdpp\")\n",
    "plt.title(\"Boxplot of the clusters and the gdpp\")\n",
    "plt.xlabel(\"clusters\")\n",
    "plt.ylabel(\"gdpp\")\n",
    "plt.show();"
   ]
  },
  {
   "cell_type": "markdown",
   "id": "692283b0",
   "metadata": {},
   "source": [
    "**Observations from the boxplot**\n",
    "\n",
    "- The countries in clusters 2, 3,and 6 have the lowest gdpp\n",
    "- The countries in clusters 0 and 4 have the highest gdpp on average."
   ]
  },
  {
   "cell_type": "markdown",
   "id": "894f25b0",
   "metadata": {},
   "source": [
    "## To improve the clustering by selecting the optimal number of cluster for KMeans...."
   ]
  },
  {
   "cell_type": "code",
   "execution_count": 23,
   "id": "00bcc7c5",
   "metadata": {},
   "outputs": [
    {
     "name": "stderr",
     "output_type": "stream",
     "text": [
      "C:\\Users\\Admin\\anaconda3\\lib\\site-packages\\sklearn\\cluster\\_kmeans.py:1036: UserWarning: KMeans is known to have a memory leak on Windows with MKL, when there are less chunks than available threads. You can avoid it by setting the environment variable OMP_NUM_THREADS=1.\n",
      "  warnings.warn(\n"
     ]
    }
   ],
   "source": [
    "# To create an instant of KMeans\n",
    "\n",
    "kmeans = KMeans()\n",
    "\n",
    "# To create a variable name to store inertia, INERT\n",
    "\n",
    "INERT = [] \n",
    "\n",
    "# create a loop to run through different numbers of inertia\n",
    "\n",
    "for cluster in range(1, 15):\n",
    "   \n",
    "    \n",
    "    kmeans = KMeans(n_clusters = cluster, init = \"k-means++\")\n",
    "    \n",
    "    # To train it\n",
    "    \n",
    "    kmeans.fit(country_scaler)\n",
    "    \n",
    "    # To append the inertia\n",
    "    \n",
    "    INERT.append(kmeans.inertia_)"
   ]
  },
  {
   "cell_type": "code",
   "execution_count": 24,
   "id": "1da8a5e3",
   "metadata": {},
   "outputs": [
    {
     "data": {
      "text/plain": [
       "[42.79871877568751,\n",
       " 25.939570818294847,\n",
       " 19.345118591450646,\n",
       " 16.781002591696122,\n",
       " 14.984580851917165,\n",
       " 13.724710698041127,\n",
       " 12.41523275408328,\n",
       " 11.452087077016063,\n",
       " 10.732628363410619,\n",
       " 10.041303350759243,\n",
       " 9.556019020921205,\n",
       " 9.118053884361249,\n",
       " 8.502543856776832,\n",
       " 7.9876523557771835]"
      ]
     },
     "execution_count": 24,
     "metadata": {},
     "output_type": "execute_result"
    }
   ],
   "source": [
    "# To check the values of inertia\n",
    "\n",
    "INERT"
   ]
  },
  {
   "cell_type": "code",
   "execution_count": 74,
   "id": "a94ce95f",
   "metadata": {},
   "outputs": [
    {
     "data": {
      "text/html": [
       "<div>\n",
       "<style scoped>\n",
       "    .dataframe tbody tr th:only-of-type {\n",
       "        vertical-align: middle;\n",
       "    }\n",
       "\n",
       "    .dataframe tbody tr th {\n",
       "        vertical-align: top;\n",
       "    }\n",
       "\n",
       "    .dataframe thead th {\n",
       "        text-align: right;\n",
       "    }\n",
       "</style>\n",
       "<table border=\"1\" class=\"dataframe\">\n",
       "  <thead>\n",
       "    <tr style=\"text-align: right;\">\n",
       "      <th></th>\n",
       "      <th>Cluster</th>\n",
       "      <th>INERT</th>\n",
       "    </tr>\n",
       "  </thead>\n",
       "  <tbody>\n",
       "    <tr>\n",
       "      <th>0</th>\n",
       "      <td>1</td>\n",
       "      <td>42.798719</td>\n",
       "    </tr>\n",
       "    <tr>\n",
       "      <th>1</th>\n",
       "      <td>2</td>\n",
       "      <td>25.939571</td>\n",
       "    </tr>\n",
       "    <tr>\n",
       "      <th>2</th>\n",
       "      <td>3</td>\n",
       "      <td>19.345119</td>\n",
       "    </tr>\n",
       "    <tr>\n",
       "      <th>3</th>\n",
       "      <td>4</td>\n",
       "      <td>16.781003</td>\n",
       "    </tr>\n",
       "    <tr>\n",
       "      <th>4</th>\n",
       "      <td>5</td>\n",
       "      <td>14.984581</td>\n",
       "    </tr>\n",
       "    <tr>\n",
       "      <th>5</th>\n",
       "      <td>6</td>\n",
       "      <td>13.724711</td>\n",
       "    </tr>\n",
       "    <tr>\n",
       "      <th>6</th>\n",
       "      <td>7</td>\n",
       "      <td>12.415233</td>\n",
       "    </tr>\n",
       "    <tr>\n",
       "      <th>7</th>\n",
       "      <td>8</td>\n",
       "      <td>11.452087</td>\n",
       "    </tr>\n",
       "    <tr>\n",
       "      <th>8</th>\n",
       "      <td>9</td>\n",
       "      <td>10.732628</td>\n",
       "    </tr>\n",
       "    <tr>\n",
       "      <th>9</th>\n",
       "      <td>10</td>\n",
       "      <td>10.041303</td>\n",
       "    </tr>\n",
       "    <tr>\n",
       "      <th>10</th>\n",
       "      <td>11</td>\n",
       "      <td>9.556019</td>\n",
       "    </tr>\n",
       "    <tr>\n",
       "      <th>11</th>\n",
       "      <td>12</td>\n",
       "      <td>9.118054</td>\n",
       "    </tr>\n",
       "    <tr>\n",
       "      <th>12</th>\n",
       "      <td>13</td>\n",
       "      <td>8.502544</td>\n",
       "    </tr>\n",
       "    <tr>\n",
       "      <th>13</th>\n",
       "      <td>14</td>\n",
       "      <td>7.987652</td>\n",
       "    </tr>\n",
       "  </tbody>\n",
       "</table>\n",
       "</div>"
      ],
      "text/plain": [
       "    Cluster      INERT\n",
       "0         1  42.798719\n",
       "1         2  25.939571\n",
       "2         3  19.345119\n",
       "3         4  16.781003\n",
       "4         5  14.984581\n",
       "5         6  13.724711\n",
       "6         7  12.415233\n",
       "7         8  11.452087\n",
       "8         9  10.732628\n",
       "9        10  10.041303\n",
       "10       11   9.556019\n",
       "11       12   9.118054\n",
       "12       13   8.502544\n",
       "13       14   7.987652"
      ]
     },
     "execution_count": 74,
     "metadata": {},
     "output_type": "execute_result"
    }
   ],
   "source": [
    "# To create datafram for the cluster and values of inertia\n",
    "\n",
    "dataframe = pd.DataFrame({\"Cluster\": range(1, 15), \"INERT\": INERT})\n",
    "\n",
    "dataframe"
   ]
  },
  {
   "cell_type": "code",
   "execution_count": 25,
   "id": "5fdfb302",
   "metadata": {},
   "outputs": [
    {
     "data": {
      "image/png": "[encoded data removed]",
      "text/plain": [
       "<Figure size 720x360 with 1 Axes>"
      ]
     },
     "metadata": {
      "needs_background": "light"
     },
     "output_type": "display_data"
    }
   ],
   "source": [
    "# To plot the elbow curve of inertia for cluster and values of inertia\n",
    "\n",
    "plt.figure(figsize = (10, 5))\n",
    "plt.plot(dataframe[\"Cluster\"], dataframe[\"INERT\"], marker = \"o\")\n",
    "plt.title(\"Plot of the Elbow Curve of the Inertia\")\n",
    "plt.xlabel(\"Number of clusters\")\n",
    "plt.ylabel(\"Inertia\")\n",
    "plt.show()"
   ]
  },
  {
   "cell_type": "markdown",
   "id": "efc42553",
   "metadata": {},
   "source": [
    "## To re-build the model using the optimal cluster number of 5"
   ]
  },
  {
   "cell_type": "code",
   "execution_count": 46,
   "id": "8e2fee0f",
   "metadata": {},
   "outputs": [],
   "source": [
    "# To re-build the model using cluster 5\n",
    "\n",
    "kmeans = KMeans(n_clusters = 5, init = \"k-means++\")\n",
    "\n",
    "# To train the data\n",
    "kmeans.fit(country_scaler)\n",
    "\n",
    "labels =kmeans.predict(country_scaler)\n",
    "\n",
    "# create a variable name to store inertia, INERT (Elbow curve of the inertia to pick the optimal number of clusters to use in\n",
    "# kmeans. \n",
    "# Inertia is to measure how close or similar the data points are)\n"
   ]
  },
  {
   "cell_type": "code",
   "execution_count": 47,
   "id": "d2eae5be",
   "metadata": {},
   "outputs": [
    {
     "data": {
      "text/plain": [
       "array([4, 3, 3, 4, 3, 3, 3, 2, 2, 3, 3, 3, 1, 3, 3, 2, 3, 4, 3, 1, 3, 1,\n",
       "       3, 2, 3, 4, 4, 1, 4, 2, 3, 4, 4, 3, 3, 3, 4, 4, 1, 3, 4, 3, 2, 3,\n",
       "       2, 3, 3, 1, 3, 4, 1, 3, 1, 2, 2, 1, 4, 3, 2, 1, 2, 3, 1, 4, 4, 1,\n",
       "       4, 3, 2, 1, 1, 3, 1, 2, 2, 2, 3, 2, 3, 3, 1, 1, 2, 1, 1, 3, 3, 4,\n",
       "       4, 3, 3, 0, 3, 1, 4, 3, 3, 4, 0, 4, 3, 1, 3, 1, 3, 3, 4, 1, 1, 1,\n",
       "       2, 2, 4, 4, 2, 3, 1, 3, 3, 3, 1, 3, 2, 2, 3, 3, 1, 1, 3, 4, 3, 3,\n",
       "       4, 0, 3, 2, 1, 1, 3, 2, 3, 3, 4, 3, 2, 2, 1, 4, 3, 4, 4, 1, 3, 3,\n",
       "       1, 4, 3, 2, 2, 2, 3, 1, 1, 3, 3, 1, 4])"
      ]
     },
     "execution_count": 47,
     "metadata": {},
     "output_type": "execute_result"
    }
   ],
   "source": [
    "# To check the 5 clusters formed\n",
    "\n",
    "labels"
   ]
  },
  {
   "cell_type": "code",
   "execution_count": 48,
   "id": "8c6348b7",
   "metadata": {},
   "outputs": [],
   "source": [
    "# to create new column using label and \"clusters\" as the column name\n",
    "\n",
    "df_country[\"clusters\"] = labels"
   ]
  },
  {
   "cell_type": "code",
   "execution_count": 49,
   "id": "983a7c65",
   "metadata": {},
   "outputs": [
    {
     "data": {
      "text/html": [
       "<div>\n",
       "<style scoped>\n",
       "    .dataframe tbody tr th:only-of-type {\n",
       "        vertical-align: middle;\n",
       "    }\n",
       "\n",
       "    .dataframe tbody tr th {\n",
       "        vertical-align: top;\n",
       "    }\n",
       "\n",
       "    .dataframe thead th {\n",
       "        text-align: right;\n",
       "    }\n",
       "</style>\n",
       "<table border=\"1\" class=\"dataframe\">\n",
       "  <thead>\n",
       "    <tr style=\"text-align: right;\">\n",
       "      <th></th>\n",
       "      <th>country</th>\n",
       "      <th>child_mort</th>\n",
       "      <th>exports</th>\n",
       "      <th>health</th>\n",
       "      <th>imports</th>\n",
       "      <th>income</th>\n",
       "      <th>inflation</th>\n",
       "      <th>life_expec</th>\n",
       "      <th>total_fer</th>\n",
       "      <th>gdpp</th>\n",
       "      <th>clusters</th>\n",
       "    </tr>\n",
       "  </thead>\n",
       "  <tbody>\n",
       "    <tr>\n",
       "      <th>0</th>\n",
       "      <td>Afghanistan</td>\n",
       "      <td>90.2</td>\n",
       "      <td>10.0</td>\n",
       "      <td>7.58</td>\n",
       "      <td>44.9</td>\n",
       "      <td>1610</td>\n",
       "      <td>9.44</td>\n",
       "      <td>56.2</td>\n",
       "      <td>5.82</td>\n",
       "      <td>553</td>\n",
       "      <td>4</td>\n",
       "    </tr>\n",
       "    <tr>\n",
       "      <th>1</th>\n",
       "      <td>Albania</td>\n",
       "      <td>16.6</td>\n",
       "      <td>28.0</td>\n",
       "      <td>6.55</td>\n",
       "      <td>48.6</td>\n",
       "      <td>9930</td>\n",
       "      <td>4.49</td>\n",
       "      <td>76.3</td>\n",
       "      <td>1.65</td>\n",
       "      <td>4090</td>\n",
       "      <td>3</td>\n",
       "    </tr>\n",
       "    <tr>\n",
       "      <th>2</th>\n",
       "      <td>Algeria</td>\n",
       "      <td>27.3</td>\n",
       "      <td>38.4</td>\n",
       "      <td>4.17</td>\n",
       "      <td>31.4</td>\n",
       "      <td>12900</td>\n",
       "      <td>16.10</td>\n",
       "      <td>76.5</td>\n",
       "      <td>2.89</td>\n",
       "      <td>4460</td>\n",
       "      <td>3</td>\n",
       "    </tr>\n",
       "    <tr>\n",
       "      <th>3</th>\n",
       "      <td>Angola</td>\n",
       "      <td>119.0</td>\n",
       "      <td>62.3</td>\n",
       "      <td>2.85</td>\n",
       "      <td>42.9</td>\n",
       "      <td>5900</td>\n",
       "      <td>22.40</td>\n",
       "      <td>60.1</td>\n",
       "      <td>6.16</td>\n",
       "      <td>3530</td>\n",
       "      <td>4</td>\n",
       "    </tr>\n",
       "    <tr>\n",
       "      <th>4</th>\n",
       "      <td>Antigua and Barbuda</td>\n",
       "      <td>10.3</td>\n",
       "      <td>45.5</td>\n",
       "      <td>6.03</td>\n",
       "      <td>58.9</td>\n",
       "      <td>19100</td>\n",
       "      <td>1.44</td>\n",
       "      <td>76.8</td>\n",
       "      <td>2.13</td>\n",
       "      <td>12200</td>\n",
       "      <td>3</td>\n",
       "    </tr>\n",
       "  </tbody>\n",
       "</table>\n",
       "</div>"
      ],
      "text/plain": [
       "               country  child_mort  exports  health  imports  income  \\\n",
       "0          Afghanistan        90.2     10.0    7.58     44.9    1610   \n",
       "1              Albania        16.6     28.0    6.55     48.6    9930   \n",
       "2              Algeria        27.3     38.4    4.17     31.4   12900   \n",
       "3               Angola       119.0     62.3    2.85     42.9    5900   \n",
       "4  Antigua and Barbuda        10.3     45.5    6.03     58.9   19100   \n",
       "\n",
       "   inflation  life_expec  total_fer   gdpp  clusters  \n",
       "0       9.44        56.2       5.82    553         4  \n",
       "1       4.49        76.3       1.65   4090         3  \n",
       "2      16.10        76.5       2.89   4460         3  \n",
       "3      22.40        60.1       6.16   3530         4  \n",
       "4       1.44        76.8       2.13  12200         3  "
      ]
     },
     "execution_count": 49,
     "metadata": {},
     "output_type": "execute_result"
    }
   ],
   "source": [
    "# To check the first 5 rows of the data\n",
    "\n",
    "df_country.head()"
   ]
  },
  {
   "cell_type": "code",
   "execution_count": 60,
   "id": "eec55c65",
   "metadata": {},
   "outputs": [],
   "source": [
    "# To create a function to visualise the variables\n",
    "\n",
    "def get_boxplot(y, figsize=(12,7), x= \"clusters\"):\n",
    "    plt.figure(figsize=figsize)\n",
    "    sns.boxplot(data = df_country, x= x, y = y)\n",
    "    "
   ]
  },
  {
   "cell_type": "code",
   "execution_count": 62,
   "id": "f01f222e",
   "metadata": {},
   "outputs": [
    {
     "data": {
      "image/png": "[encoded data removed]",
      "text/plain": [
       "<Figure size 864x504 with 1 Axes>"
      ]
     },
     "metadata": {
      "needs_background": "light"
     },
     "output_type": "display_data"
    }
   ],
   "source": [
    "# To visualise child_mort and clusters using boxplot  \n",
    "\n",
    "get_boxplot(y=\"child_mort\")\n",
    "plt.title(\"Boxplot of the clusters and the child_mort\");\n"
   ]
  },
  {
   "cell_type": "markdown",
   "id": "c84a2c4e",
   "metadata": {},
   "source": [
    "**Observations from the boxplot**\n",
    "\n",
    "- The countries in clusters 0 and 2 have the lowest child mortality\n",
    "- The countries in cluster 4 have the highest child mortality of average of 100\n",
    "- The countries in cluster 1 also have high child mortality of average of 50"
   ]
  },
  {
   "cell_type": "code",
   "execution_count": 64,
   "id": "a20eeaec",
   "metadata": {},
   "outputs": [
    {
     "data": {
      "image/png": "[encoded data removed]",
      "text/plain": [
       "<Figure size 864x504 with 1 Axes>"
      ]
     },
     "metadata": {
      "needs_background": "light"
     },
     "output_type": "display_data"
    }
   ],
   "source": [
    "# To visualise child_mort and clusters using boxplot \n",
    "\n",
    "get_boxplot(y = \"health\")\n",
    "plt.title(\"Boxplot of the clusters and the health\");\n"
   ]
  },
  {
   "cell_type": "markdown",
   "id": "e477c0e0",
   "metadata": {},
   "source": [
    "**Observation from the boxplot**\n",
    "\n",
    "- The countries in clusters 0 and 2 have the highest health on average\n",
    "- The health of the countries in clusters 1 and 4 is at average of 5 which is the lowest. They have an improved health despite high child mortality in these countries"
   ]
  },
  {
   "cell_type": "code",
   "execution_count": 75,
   "id": "5079b3bb",
   "metadata": {},
   "outputs": [
    {
     "data": {
      "image/png": "[encoded data removed]",
      "text/plain": [
       "<Figure size 864x504 with 1 Axes>"
      ]
     },
     "metadata": {
      "needs_background": "light"
     },
     "output_type": "display_data"
    }
   ],
   "source": [
    "# To visualise gdpp and clusters using boxplot \n",
    "\n",
    "get_boxplot(y = \"gdpp\")\n",
    "plt.title(\"Boxplot of the clusters and the gdpp\");"
   ]
  },
  {
   "cell_type": "markdown",
   "id": "a9e887ea",
   "metadata": {},
   "source": [
    "**Observations from the boxplot**\n",
    "\n",
    "- The countries in clusters 0 and 2 have the highest gdpp\n",
    "- The countries in clusters 1 and 4 have the lowest gdpp\n"
   ]
  },
  {
   "cell_type": "code",
   "execution_count": 66,
   "id": "2a1b16c5",
   "metadata": {},
   "outputs": [
    {
     "data": {
      "image/png": "[encoded data removed]",
      "text/plain": [
       "<Figure size 864x504 with 1 Axes>"
      ]
     },
     "metadata": {
      "needs_background": "light"
     },
     "output_type": "display_data"
    }
   ],
   "source": [
    "# To visualise life_expec and clusters using boxplot \n",
    "\n",
    "get_boxplot(y = \"life_expec\")\n",
    "plt.title(\"Boxplot of the clusters and the life_expec\");\n"
   ]
  },
  {
   "cell_type": "markdown",
   "id": "c3429216",
   "metadata": {},
   "source": [
    "**Observations from the boxplot**\n",
    "\n",
    "- The countries in clusters 0 and 2 have the highest life expectancy above 80 0n average\n",
    "- The countries in cluster 4 have the lowest on average of approximately 60\n"
   ]
  },
  {
   "cell_type": "code",
   "execution_count": 68,
   "id": "f1c86f0e",
   "metadata": {},
   "outputs": [
    {
     "data": {
      "image/png": "[encoded data removed]",
      "text/plain": [
       "<Figure size 864x504 with 1 Axes>"
      ]
     },
     "metadata": {
      "needs_background": "light"
     },
     "output_type": "display_data"
    }
   ],
   "source": [
    "# To visualise ctotal_fer and clusters using boxplot \n",
    "\n",
    "get_boxplot(y = \"total_fer\")\n",
    "plt.title(\"Boxplot of the clusters and the total_fer\");\n"
   ]
  },
  {
   "cell_type": "markdown",
   "id": "62df9539",
   "metadata": {},
   "source": [
    "**Observations from the boxplot**\n",
    "\n",
    "- The countries in clusters 0 have the lowest total_fer.\n",
    "- The countries in clusters 2 and 3 have the same total_fer on average.\n",
    "- The countries in cluster 4 have the highest total_fer and closely followed by countries in cluster 1.\n"
   ]
  },
  {
   "cell_type": "code",
   "execution_count": 69,
   "id": "e50fab61",
   "metadata": {},
   "outputs": [
    {
     "data": {
      "image/png": "[encoded data removed]",
      "text/plain": [
       "<Figure size 864x504 with 1 Axes>"
      ]
     },
     "metadata": {
      "needs_background": "light"
     },
     "output_type": "display_data"
    }
   ],
   "source": [
    "# To visualise inflation and clusters using boxplot \n",
    "\n",
    "get_boxplot(y = \"inflation\")\n",
    "plt.title(\"Boxplot of the clusters and the inflation\");\n"
   ]
  },
  {
   "cell_type": "markdown",
   "id": "91a2e9ed",
   "metadata": {},
   "source": [
    "**Observations from the boxplot**\n",
    "\n",
    "- Ineterestingly, the inflation in all the clusters seems to be very close on average.\n",
    "- The countries in clusters 1 and 4 have the highest inflation on average.\n",
    "- The countries in clusters 0 and 2 have the lowest on average\n"
   ]
  },
  {
   "cell_type": "code",
   "execution_count": 70,
   "id": "de044103",
   "metadata": {},
   "outputs": [
    {
     "data": {
      "image/png": "[encoded data removed]",
      "text/plain": [
       "<Figure size 864x504 with 1 Axes>"
      ]
     },
     "metadata": {
      "needs_background": "light"
     },
     "output_type": "display_data"
    }
   ],
   "source": [
    "# To visualise income and clusters using boxplot \n",
    "\n",
    "get_boxplot(y = \"income\")\n",
    "plt.title(\"Boxplot of the clusters and the income\");\n"
   ]
  },
  {
   "cell_type": "markdown",
   "id": "a3266b29",
   "metadata": {},
   "source": [
    "**Observations from the boxplot**\n",
    "\n",
    "- The countries in cluster 0 have the highest income and closely followed by countries in cluster 2\n",
    "- The countries in clusters 1 and 4 have the lowest on average.\n"
   ]
  },
  {
   "cell_type": "code",
   "execution_count": 72,
   "id": "c669eb84",
   "metadata": {},
   "outputs": [
    {
     "data": {
      "image/png": "[encoded data removed]",
      "text/plain": [
       "<Figure size 864x504 with 1 Axes>"
      ]
     },
     "metadata": {
      "needs_background": "light"
     },
     "output_type": "display_data"
    }
   ],
   "source": [
    "# To visualise imports and clusters using boxplot \n",
    "\n",
    "get_boxplot(y = \"imports\")\n",
    "plt.title(\"Boxplot of the clusters and the import\");\n"
   ]
  },
  {
   "cell_type": "markdown",
   "id": "92ea18dd",
   "metadata": {},
   "source": [
    "**Observations from the boxplot**\n",
    "\n",
    "- The countries in clusters 0 have the highest imports.\n",
    "- The average imports of countries in other clusters seem to be close but cluster 2 still has the lowest imports on average."
   ]
  },
  {
   "cell_type": "code",
   "execution_count": 71,
   "id": "5b49d8ee",
   "metadata": {},
   "outputs": [
    {
     "data": {
      "image/png": "[encoded data removed]",
      "text/plain": [
       "<Figure size 864x504 with 1 Axes>"
      ]
     },
     "metadata": {
      "needs_background": "light"
     },
     "output_type": "display_data"
    }
   ],
   "source": [
    "# To visualise exports and clusters using boxplot \n",
    "\n",
    "get_boxplot(y = \"exports\")\n",
    "plt.title(\"Boxplot of the clusters and the export\");\n"
   ]
  },
  {
   "cell_type": "markdown",
   "id": "a829d030",
   "metadata": {},
   "source": [
    "**Observations from the boxplot**\n",
    "\n",
    "- The countries in clusters 0 have the highest exports.\n",
    "- The countries in clusters 1 and 4 have the lowest exports on average.\n",
    "- Interestingly, the average imports of countries in all clusters except cluster 0 seem to be close on average."
   ]
  },
  {
   "cell_type": "markdown",
   "id": "c4ccf22a",
   "metadata": {},
   "source": [
    "# Conclusion\n",
    "\n",
    "- The countries in clusters 1 and 4 with the highest child mortality, total_fer and inflation on average.\n",
    "But they have the lowest gdpp, health, life expectancy, income and exports on average. Though they show improvement in their\n",
    "imports, the characteristics exhibited best describe the under-developed countries.\n",
    "- The countries in clusters 0 and 2 have the lowest child mortality, total_fer and inflation on average. They seem to be the\n",
    "exact opposite of countries in clusters 1 and 4. They have the highest gdpp, health, life expectancy, income and exports on\n",
    "average. These charateristics match the developed countries.\n",
    "- The countries in cluster 3 mostly ranked 3rd in all these parameters. They are neither in the highest level nor found in the\n",
    "lowest plane. The characteristics best describe the developing countries.\n",
    "- The countries in cluster 0 ranked the highest in parameters like gdpp, life expectancy, income, imports, exports and lowest\n",
    "in total_fer and child mortality on average."
   ]
  },
  {
   "cell_type": "code",
   "execution_count": null,
   "id": "ba93703c",
   "metadata": {},
   "outputs": [],
   "source": []
  }
 ],
 "metadata": {
  "kernelspec": {
   "display_name": "Python 3 (ipykernel)",
   "language": "python",
   "name": "python3"
  },
  "language_info": {
   "codemirror_mode": {
    "name": "ipython",
    "version": 3
   },
   "file_extension": ".py",
   "mimetype": "text/x-python",
   "name": "python",
   "nbconvert_exporter": "python",
   "pygments_lexer": "ipython3",
   "version": "3.9.12"
  }
 },
 "nbformat": 4,
 "nbformat_minor": 5
}
